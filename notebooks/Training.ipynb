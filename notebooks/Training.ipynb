{
 "cells": [
  {
   "cell_type": "code",
   "execution_count": 1,
   "metadata": {},
   "outputs": [],
   "source": [
    "import sys\n",
    "if not '..' in sys.path:\n",
    "    sys.path.append('..')\n",
    "from simplegrid.cow import Action\n",
    "import numpy as np\n",
    "import random\n",
    "\n",
    "from unittest.mock import MagicMock\n",
    "from shared.experiment_settings import ExperimentSettings\n",
    "from simplegrid.deep_cow import DeepCow\n",
    "from simplegrid.dqn_agent import DQNAgent\n",
    "from simplegrid.world import World as World, MapFeature"
   ]
  },
  {
   "cell_type": "code",
   "execution_count": 2,
   "metadata": {},
   "outputs": [],
   "source": [
    "settings = ExperimentSettings('')\n",
    "settings.world_size = 5\n",
    "settings.start_num_creatures = 0\n",
    "settings.layers = [12]\n",
    "DeepCow.agent = None\n",
    "deepcow = DeepCow(x=2, y=2, energy=100, settings=settings)\n",
    "world = World(settings, MagicMock())"
   ]
  },
  {
   "cell_type": "code",
   "execution_count": 3,
   "metadata": {},
   "outputs": [
    {
     "data": {
      "text/plain": [
       "(array([1., 0., 1., 0., 0., 0., 1., 1., 0., 1., 0., 1., 0., 0., 0., 0., 0.,\n",
       "        0., 0., 0., 0., 0., 0., 0., 0., 0., 0., 0., 0., 0., 0., 0., 0., 0.,\n",
       "        0., 0.]),\n",
       " 3,\n",
       " 0.8666666666666667,\n",
       " array([1., 0., 1., 0., 0., 0., 0., 0., 0., 0., 1., 1., 0., 0., 0., 0., 0.,\n",
       "        0., 0., 1., 0., 0., 0., 0., 0., 0., 0., 0., 1., 0., 0., 0., 0., 0.,\n",
       "        0., 0.]))"
      ]
     },
     "execution_count": 3,
     "metadata": {},
     "output_type": "execute_result"
    }
   ],
   "source": [
    "def training_record(world, cow, grass_fraction=0.25, water_fraction=0.10):\n",
    "    world.reset(MagicMock(), grass_fraction=grass_fraction, water_fraction=water_fraction)\n",
    "    cow.x = 2\n",
    "    cow.y = 2\n",
    "    world.add_new_creature(cow)\n",
    "    observation = world.get_observation(cow)\n",
    "    action = cow.step(observation)\n",
    "    new_creature, reward, done = world.process_action(cow, action)\n",
    "    if done:\n",
    "        next_state = None\n",
    "    else:\n",
    "        next_observation = world.get_observation(cow)\n",
    "        next_state = cow.to_internal_state(next_observation)\n",
    "    return cow.state, cow.action_idx, reward, next_state\n",
    "\n",
    "training_record(world, deepcow)"
   ]
  },
  {
   "cell_type": "code",
   "execution_count": 12,
   "metadata": {},
   "outputs": [
    {
     "data": {
      "text/plain": [
       "[(DOWN, -0.08910842),\n",
       " (LEFT, -0.088489294),\n",
       " (UP, -0.07259474),\n",
       " (RIGHT, -0.07130667)]"
      ]
     },
     "execution_count": 12,
     "metadata": {},
     "output_type": "execute_result"
    }
   ],
   "source": [
    "def run_scenario(scenario, world, cow):\n",
    "    environment = MapFeature.text_scene_to_environment(scenario)\n",
    "    world.cells = environment\n",
    "    cow.x = 2\n",
    "    cow.y = 2\n",
    "    world.add_new_creature(cow)\n",
    "    observation = world.get_observation(cow)\n",
    "    state = cow.to_internal_state(observation)\n",
    "    act_values = cow.agent.predict(state)\n",
    "    action_index = np.argmax(act_values[0])\n",
    "    return [(Action(action_index + 1), act_values[0][action_index])\n",
    "           for action_index in np.argsort(act_values[0])]\n",
    "\n",
    "run_scenario('.....\\n'\n",
    "             '.....\\n'\n",
    "             '.....\\n'\n",
    "             '.....\\n'\n",
    "             '..~..\\n',\n",
    "             world, deepcow\n",
    "            )"
   ]
  },
  {
   "cell_type": "code",
   "execution_count": 6,
   "metadata": {},
   "outputs": [
    {
     "data": {
      "text/plain": [
       "-1.8710000000000429"
      ]
     },
     "execution_count": 6,
     "metadata": {},
     "output_type": "execute_result"
    }
   ],
   "source": [
    "def score(world, deepcow):\n",
    "    score = 0\n",
    "    for i in range(1000):\n",
    "        state, action, reward, next_state = training_record(world, deepcow)\n",
    "        if next_state is None:\n",
    "            score -= 10\n",
    "        else:\n",
    "            score += reward\n",
    "    return score / 1000\n",
    "\n",
    "score(world, deepcow)"
   ]
  },
  {
   "cell_type": "code",
   "execution_count": 22,
   "metadata": {},
   "outputs": [
    {
     "data": {
      "text/plain": [
       "(array([0, 1, 1, 0, 0, 1, 1, 0, 0, 0, 1, 0, 0, 0, 0, 1, 0, 0, 0, 0, 0, 0,\n",
       "        0, 0, 0, 0, 0, 0, 0, 0, 0, 0, 0, 0, 0, 0]),\n",
       " 0,\n",
       " 0.8666666666666667,\n",
       " array([0, 0, 1, 1, 0, 0, 0, 1, 0, 0, 0, 0, 0, 0, 0, 0, 0, 0, 0, 0, 0, 0,\n",
       "        0, 0, 0, 0, 0, 0, 0, 0, 0, 0, 0, 0, 0, 0]))"
      ]
     },
     "execution_count": 22,
     "metadata": {},
     "output_type": "execute_result"
    }
   ],
   "source": [
    "records = [training_record(world, deepcow) for _ in range(200000)]\n",
    "records[0]"
   ]
  },
  {
   "cell_type": "code",
   "execution_count": 23,
   "metadata": {},
   "outputs": [],
   "source": [
    "agent = deepcow.agent\n",
    "for rec in records:\n",
    "    agent.remember(*rec)"
   ]
  },
  {
   "cell_type": "code",
   "execution_count": 24,
   "metadata": {},
   "outputs": [
    {
     "name": "stdout",
     "output_type": "stream",
     "text": [
      "0 0.1081507563086537\n",
      "1 0.04180942660896109\n",
      "2 0.03738071905293813\n",
      "3 0.05667696514477333\n",
      "4 0.06424152853433043\n",
      "5 0.07367683884222062\n",
      "6 0.03925972802098843\n",
      "7 0.07053790832093607\n",
      "8 0.04638871860612806\n",
      "9 0.055363988130314595\n"
     ]
    }
   ],
   "source": [
    "for epoch in range(10):\n",
    "    for __ in range(len(records) // agent.batch_size):\n",
    "        loss = agent.replay()\n",
    "    print(epoch, loss)"
   ]
  },
  {
   "cell_type": "code",
   "execution_count": 10,
   "metadata": {},
   "outputs": [
    {
     "data": {
      "text/plain": [
       "0.613666666666672"
      ]
     },
     "execution_count": 10,
     "metadata": {},
     "output_type": "execute_result"
    }
   ],
   "source": [
    "score(world, deepcow)"
   ]
  },
  {
   "cell_type": "code",
   "execution_count": 25,
   "metadata": {},
   "outputs": [
    {
     "data": {
      "text/plain": [
       "[(DOWN, -0.09832768),\n",
       " (RIGHT, -0.07484319),\n",
       " (UP, -0.06951808),\n",
       " (LEFT, 0.0024407804)]"
      ]
     },
     "execution_count": 25,
     "metadata": {},
     "output_type": "execute_result"
    }
   ],
   "source": [
    "run_scenario('.....\\n'\n",
    "             '.....\\n'\n",
    "             '.....\\n'\n",
    "             '..~..\\n'\n",
    "             '.....\\n',\n",
    "             world, deepcow\n",
    "            )"
   ]
  },
  {
   "cell_type": "code",
   "execution_count": 26,
   "metadata": {},
   "outputs": [
    {
     "data": {
      "text/plain": [
       "[(UP, -0.08742268),\n",
       " (RIGHT, -0.03684604),\n",
       " (LEFT, -0.01104486),\n",
       " (DOWN, 0.11615394)]"
      ]
     },
     "execution_count": 26,
     "metadata": {},
     "output_type": "execute_result"
    }
   ],
   "source": [
    "run_scenario('.....\\n'\n",
    "             '.....\\n'\n",
    "             '.....\\n'\n",
    "             '.....\\n'\n",
    "             '..#..\\n',\n",
    "             world, deepcow\n",
    "            )"
   ]
  },
  {
   "cell_type": "code",
   "execution_count": 27,
   "metadata": {},
   "outputs": [
    {
     "data": {
      "text/plain": [
       "[(UP, -0.07630407),\n",
       " (RIGHT, -0.044064693),\n",
       " (DOWN, -0.0111687705),\n",
       " (LEFT, 0.015386969)]"
      ]
     },
     "execution_count": 27,
     "metadata": {},
     "output_type": "execute_result"
    }
   ],
   "source": [
    "run_scenario('#....\\n'\n",
    "             '.....\\n'\n",
    "             '.....\\n'\n",
    "             '.....\\n'\n",
    "             '.....\\n',\n",
    "             world, deepcow\n",
    "            )"
   ]
  },
  {
   "cell_type": "code",
   "execution_count": 29,
   "metadata": {},
   "outputs": [
    {
     "data": {
      "text/plain": [
       "[(LEFT, -0.16135077),\n",
       " (UP, -0.06531254),\n",
       " (RIGHT, -0.03798972),\n",
       " (DOWN, 0.05389011)]"
      ]
     },
     "execution_count": 29,
     "metadata": {},
     "output_type": "execute_result"
    }
   ],
   "source": [
    "run_scenario('.....\\n'\n",
    "             '.....\\n'\n",
    "             '#~...\\n'\n",
    "             '.....\\n'\n",
    "             '.....\\n',\n",
    "             world, deepcow\n",
    "            )"
   ]
  },
  {
   "cell_type": "code",
   "execution_count": 30,
   "metadata": {},
   "outputs": [
    {
     "data": {
      "text/plain": [
       "[(RIGHT, -0.056711726),\n",
       " (UP, -0.05226101),\n",
       " (DOWN, -0.04222539),\n",
       " (LEFT, 0.04077822)]"
      ]
     },
     "execution_count": 30,
     "metadata": {},
     "output_type": "execute_result"
    }
   ],
   "source": [
    "run_scenario('.....\\n'\n",
    "             '#~...\\n'\n",
    "             '.....\\n'\n",
    "             '.....\\n'\n",
    "             '.....\\n',\n",
    "             world, deepcow\n",
    "            )"
   ]
  },
  {
   "cell_type": "code",
   "execution_count": 31,
   "metadata": {},
   "outputs": [
    {
     "data": {
      "text/plain": [
       "[(RIGHT, -0.055134237),\n",
       " (DOWN, -0.04744616),\n",
       " (UP, 0.08114942),\n",
       " (LEFT, 0.12565738)]"
      ]
     },
     "execution_count": 31,
     "metadata": {},
     "output_type": "execute_result"
    }
   ],
   "source": [
    "run_scenario('.....\\n'\n",
    "             '.#~..\\n'\n",
    "             '.....\\n'\n",
    "             '.....\\n'\n",
    "             '.....\\n',\n",
    "             world, deepcow\n",
    "            )"
   ]
  },
  {
   "cell_type": "code",
   "execution_count": null,
   "metadata": {},
   "outputs": [],
   "source": []
  }
 ],
 "metadata": {
  "kernelspec": {
   "display_name": "Python 3",
   "language": "python",
   "name": "python3"
  },
  "language_info": {
   "codemirror_mode": {
    "name": "ipython",
    "version": 3
   },
   "file_extension": ".py",
   "mimetype": "text/x-python",
   "name": "python",
   "nbconvert_exporter": "python",
   "pygments_lexer": "ipython3",
   "version": "3.6.5"
  }
 },
 "nbformat": 4,
 "nbformat_minor": 2
}
