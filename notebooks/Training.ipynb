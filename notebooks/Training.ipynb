{
 "cells": [
  {
   "cell_type": "code",
   "execution_count": 1,
   "metadata": {},
   "outputs": [],
   "source": [
    "import sys\n",
    "if not '..' in sys.path:\n",
    "    sys.path.append('..')\n",
    "from simplegrid import cow\n",
    "import numpy as np\n",
    "import random\n",
    "\n",
    "from unittest.mock import MagicMock\n",
    "from shared.experiment_settings import ExperimentSettings\n",
    "from simplegrid.deep_cow import DeepCow\n",
    "from simplegrid.world import World as World"
   ]
  },
  {
   "cell_type": "code",
   "execution_count": 2,
   "metadata": {},
   "outputs": [],
   "source": [
    "settings = ExperimentSettings('')\n",
    "settings.world_size = 5\n",
    "settings.start_num_creatures = 0\n",
    "deepcow = DeepCow(x=2, y=2, energy=100)\n",
    "world = World(settings, MagicMock())"
   ]
  },
  {
   "cell_type": "code",
   "execution_count": 24,
   "metadata": {},
   "outputs": [
    {
     "data": {
      "text/plain": [
       "(97.66666666666498, 231, 769)"
      ]
     },
     "execution_count": 24,
     "metadata": {},
     "output_type": "execute_result"
    }
   ],
   "source": [
    "def training_record(world, cow, green_chance=0.25):\n",
    "    world.reset(MagicMock(), green_chance)\n",
    "    cow.x = 2\n",
    "    cow.y = 2\n",
    "    world.add_new_creature(cow)\n",
    "    observation = world.get_observation(cow)\n",
    "    action = cow.step(observation)\n",
    "    new_creature, reward, done = world.process_action(cow, action)\n",
    "    next_observation = world.get_observation(cow)\n",
    "    next_state = cow.to_internal_state(next_observation)\n",
    "    return cow.state, action, reward, next_state\n",
    "    \n",
    "\n",
    "    \n",
    "total = 0\n",
    "hit = 0\n",
    "mis = 0\n",
    "for i in range(1000):\n",
    "    rec = training_record(world, deepcow)\n",
    "    total += rec[2]\n",
    "    if rec[2] > 0:\n",
    "        hit += 1\n",
    "    else:\n",
    "        mis += 1\n",
    "total, hit, mis"
   ]
  },
  {
   "cell_type": "code",
   "execution_count": 26,
   "metadata": {},
   "outputs": [
    {
     "data": {
      "text/plain": [
       "97.66666666666667"
      ]
     },
     "execution_count": 26,
     "metadata": {},
     "output_type": "execute_result"
    }
   ],
   "source": [
    "(hit * 15 - (hit + mis) * 2) / 15"
   ]
  },
  {
   "cell_type": "code",
   "execution_count": null,
   "metadata": {},
   "outputs": [],
   "source": []
  }
 ],
 "metadata": {
  "kernelspec": {
   "display_name": "Python 3",
   "language": "python",
   "name": "python3"
  },
  "language_info": {
   "codemirror_mode": {
    "name": "ipython",
    "version": 3
   },
   "file_extension": ".py",
   "mimetype": "text/x-python",
   "name": "python",
   "nbconvert_exporter": "python",
   "pygments_lexer": "ipython3",
   "version": "3.6.5"
  }
 },
 "nbformat": 4,
 "nbformat_minor": 2
}
