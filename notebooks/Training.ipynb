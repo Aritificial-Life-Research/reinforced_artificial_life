{
 "cells": [
  {
   "cell_type": "code",
   "execution_count": 1,
   "metadata": {},
   "outputs": [],
   "source": [
    "import sys\n",
    "if not '..' in sys.path:\n",
    "    sys.path.append('..')\n",
    "from simplegrid.cow import Action\n",
    "import numpy as np\n",
    "import random\n",
    "\n",
    "from unittest.mock import MagicMock\n",
    "from shared.experiment_settings import ExperimentSettings\n",
    "from simplegrid.deep_cow import DeepCow\n",
    "from simplegrid.dqn_agent import DQNAgent\n",
    "from simplegrid.world import World as World, MapFeature"
   ]
  },
  {
   "cell_type": "code",
   "execution_count": 2,
   "metadata": {},
   "outputs": [],
   "source": [
    "settings = ExperimentSettings('')\n",
    "settings.world_size = 5\n",
    "settings.start_num_creatures = 0\n",
    "settings.layers = [12]\n",
    "DeepCow.agent = None\n",
    "deepcow = DeepCow(x=2, y=2, energy=100, settings=settings)\n",
    "world = World(settings, MagicMock())"
   ]
  },
  {
   "cell_type": "code",
   "execution_count": 3,
   "metadata": {},
   "outputs": [
    {
     "data": {
      "text/plain": [
       "(array([1., 0., 1., 0., 0., 0., 1., 1., 0., 1., 0., 1., 0., 0., 0., 0., 0.,\n",
       "        0., 0., 0., 0., 0., 0., 0., 0., 0., 0., 0., 0., 0., 0., 0., 0., 0.,\n",
       "        0., 0.]),\n",
       " 3,\n",
       " 0.8666666666666667,\n",
       " array([1., 0., 1., 0., 0., 0., 0., 0., 0., 0., 1., 1., 0., 0., 0., 0., 0.,\n",
       "        0., 0., 1., 0., 0., 0., 0., 0., 0., 0., 0., 1., 0., 0., 0., 0., 0.,\n",
       "        0., 0.]))"
      ]
     },
     "execution_count": 3,
     "metadata": {},
     "output_type": "execute_result"
    }
   ],
   "source": [
    "def training_record(world, cow, grass_fraction=0.25, water_fraction=0.10):\n",
    "    world.reset(MagicMock(), grass_fraction=grass_fraction, water_fraction=water_fraction)\n",
    "    cow.x = 2\n",
    "    cow.y = 2\n",
    "    world.add_new_creature(cow)\n",
    "    observation = world.get_observation(cow)\n",
    "    action = cow.step(observation)\n",
    "    new_creature, reward, done = world.process_action(cow, action)\n",
    "    if done:\n",
    "        next_state = None\n",
    "    else:\n",
    "        next_observation = world.get_observation(cow)\n",
    "        next_state = cow.to_internal_state(next_observation)\n",
    "    return cow.state, cow.action_idx, reward, next_state\n",
    "\n",
    "training_record(world, deepcow)"
   ]
  },
  {
   "cell_type": "code",
   "execution_count": 12,
   "metadata": {},
   "outputs": [
    {
     "data": {
      "text/plain": [
       "[(DOWN, -0.08910842),\n",
       " (LEFT, -0.088489294),\n",
       " (UP, -0.07259474),\n",
       " (RIGHT, -0.07130667)]"
      ]
     },
     "execution_count": 12,
     "metadata": {},
     "output_type": "execute_result"
    }
   ],
   "source": [
    "def run_scenario(scenario, world, cow):\n",
    "    environment = MapFeature.text_scene_to_environment(scenario)\n",
    "    world.cells = environment\n",
    "    cow.x = 2\n",
    "    cow.y = 2\n",
    "    world.add_new_creature(cow)\n",
    "    observation = world.get_observation(cow)\n",
    "    state = cow.to_internal_state(observation)\n",
    "    act_values = cow.agent.predict(state)\n",
    "    action_index = np.argmax(act_values[0])\n",
    "    return [(Action(action_index + 1), act_values[0][action_index])\n",
    "           for action_index in np.argsort(act_values[0])]\n",
    "\n",
    "run_scenario('.....\\n'\n",
    "             '.....\\n'\n",
    "             '.....\\n'\n",
    "             '.....\\n'\n",
    "             '..~..\\n',\n",
    "             world, deepcow\n",
    "            )"
   ]
  },
  {
   "cell_type": "code",
   "execution_count": 6,
   "metadata": {},
   "outputs": [
    {
     "data": {
      "text/plain": [
       "-1.8710000000000429"
      ]
     },
     "execution_count": 6,
     "metadata": {},
     "output_type": "execute_result"
    }
   ],
   "source": [
    "def score(world, deepcow):\n",
    "    score = 0\n",
    "    for i in range(1000):\n",
    "        state, action, reward, next_state = training_record(world, deepcow)\n",
    "        if next_state is None:\n",
    "            score -= 10\n",
    "        else:\n",
    "            score += reward\n",
    "    return score / 1000\n",
    "\n",
    "score(world, deepcow)"
   ]
  },
  {
   "cell_type": "code",
   "execution_count": 7,
   "metadata": {},
   "outputs": [
    {
     "data": {
      "text/plain": [
       "(array([0, 0, 0, 0, 0, 0, 0, 1, 0, 0, 0, 1, 0, 0, 0, 0, 0, 0, 0, 0, 0, 0,\n",
       "        0, 0, 0, 0, 0, 0, 0, 0, 0, 0, 1, 0, 0, 0]),\n",
       " 3,\n",
       " -0.13333333333333333,\n",
       " array([1, 0, 0, 0, 1, 0, 0, 1, 0, 0, 0, 0, 0, 0, 0, 0, 0, 0, 0, 0, 0, 0,\n",
       "        0, 0, 0, 0, 0, 0, 0, 0, 0, 0, 0, 0, 0, 0]))"
      ]
     },
     "execution_count": 7,
     "metadata": {},
     "output_type": "execute_result"
    }
   ],
   "source": [
    "records = [training_record(world, deepcow) for _ in range(10000)]\n",
    "records[0]"
   ]
  },
  {
   "cell_type": "code",
   "execution_count": 8,
   "metadata": {},
   "outputs": [],
   "source": [
    "agent = deepcow.agent\n",
    "for rec in records:\n",
    "    agent.remember(*rec)"
   ]
  },
  {
   "cell_type": "code",
   "execution_count": 9,
   "metadata": {},
   "outputs": [
    {
     "name": "stdout",
     "output_type": "stream",
     "text": [
      "0 0.2340843577325965\n",
      "1 0.1237001986359246\n",
      "2 0.08668299736067031\n",
      "3 0.08420823316167418\n",
      "4 0.07991760802008988\n",
      "5 0.07443107463380633\n",
      "6 0.08026132208760828\n",
      "7 0.06388902496546506\n",
      "8 0.07735907312016935\n",
      "9 0.09507555242938301\n"
     ]
    }
   ],
   "source": [
    "for epoch in range(10):\n",
    "    for __ in range(len(records) // agent.batch_size):\n",
    "        loss = agent.replay()\n",
    "    print(epoch, loss)"
   ]
  },
  {
   "cell_type": "code",
   "execution_count": 10,
   "metadata": {},
   "outputs": [
    {
     "data": {
      "text/plain": [
       "0.613666666666672"
      ]
     },
     "execution_count": 10,
     "metadata": {},
     "output_type": "execute_result"
    }
   ],
   "source": [
    "score(world, deepcow)"
   ]
  },
  {
   "cell_type": "code",
   "execution_count": 13,
   "metadata": {},
   "outputs": [
    {
     "data": {
      "text/plain": [
       "[(DOWN, -0.22786957),\n",
       " (UP, -0.08288756),\n",
       " (RIGHT, -0.07165544),\n",
       " (LEFT, -0.068953216)]"
      ]
     },
     "execution_count": 13,
     "metadata": {},
     "output_type": "execute_result"
    }
   ],
   "source": [
    "run_scenario('.....\\n'\n",
    "             '.....\\n'\n",
    "             '.....\\n'\n",
    "             '..~..\\n'\n",
    "             '.....\\n',\n",
    "             world, deepcow\n",
    "            )"
   ]
  },
  {
   "cell_type": "code",
   "execution_count": 14,
   "metadata": {},
   "outputs": [
    {
     "data": {
      "text/plain": [
       "[(LEFT, -0.09282464),\n",
       " (RIGHT, -0.07800578),\n",
       " (UP, -0.03955635),\n",
       " (DOWN, 0.030865952)]"
      ]
     },
     "execution_count": 14,
     "metadata": {},
     "output_type": "execute_result"
    }
   ],
   "source": [
    "run_scenario('.....\\n'\n",
    "             '.....\\n'\n",
    "             '.....\\n'\n",
    "             '.....\\n'\n",
    "             '..#..\\n',\n",
    "             world, deepcow\n",
    "            )"
   ]
  },
  {
   "cell_type": "code",
   "execution_count": 18,
   "metadata": {},
   "outputs": [
    {
     "data": {
      "text/plain": [
       "[(RIGHT, -0.09073467),\n",
       " (LEFT, -0.087608606),\n",
       " (DOWN, -0.06990122),\n",
       " (UP, -0.051943235)]"
      ]
     },
     "execution_count": 18,
     "metadata": {},
     "output_type": "execute_result"
    }
   ],
   "source": [
    "run_scenario('#....\\n'\n",
    "             '.....\\n'\n",
    "             '.....\\n'\n",
    "             '.....\\n'\n",
    "             '.....\\n',\n",
    "             world, deepcow\n",
    "            )"
   ]
  },
  {
   "cell_type": "code",
   "execution_count": null,
   "metadata": {},
   "outputs": [],
   "source": []
  }
 ],
 "metadata": {
  "kernelspec": {
   "display_name": "Python 3",
   "language": "python",
   "name": "python3"
  },
  "language_info": {
   "codemirror_mode": {
    "name": "ipython",
    "version": 3
   },
   "file_extension": ".py",
   "mimetype": "text/x-python",
   "name": "python",
   "nbconvert_exporter": "python",
   "pygments_lexer": "ipython3",
   "version": "3.6.5"
  }
 },
 "nbformat": 4,
 "nbformat_minor": 2
}
